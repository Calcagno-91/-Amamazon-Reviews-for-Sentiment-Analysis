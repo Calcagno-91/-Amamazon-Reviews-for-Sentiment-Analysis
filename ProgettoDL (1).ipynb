{
 "cells": [
  {
   "cell_type": "markdown",
   "metadata": {},
   "source": [
    "### Amazon Reviews for Sentiment Analysis"
   ]
  },
  {
   "cell_type": "markdown",
   "metadata": {},
   "source": [
    "Obiettivo: costruire una rete neurale che riesca a capire se una recensione è negativa o positiva"
   ]
  },
  {
   "cell_type": "code",
   "execution_count": 9,
   "metadata": {},
   "outputs": [],
   "source": [
    "import pandas as pd\n",
    "from keras.layers import GlobalMaxPooling1D\n",
    "import numpy as np\n",
    "import matplotlib.pyplot as plt\n",
    "from tensorflow.python.keras import models, layers, optimizers\n",
    "import tensorflow\n",
    "from tensorflow.keras.preprocessing.text import Tokenizer, text_to_word_sequence\n",
    "from tensorflow.keras.preprocessing.sequence import pad_sequences\n",
    "import bz2\n",
    "from sklearn.metrics import f1_score, roc_auc_score, accuracy_score\n",
    "import re\n",
    "from keras.models import Sequential\n",
    "from keras.callbacks import LambdaCallback\n",
    "from keras.layers import Dense, LSTM\n",
    "import seaborn as sns"
   ]
  },
  {
   "cell_type": "markdown",
   "metadata": {},
   "source": [
    "Leggiamo il file e creiamo due liste una con le label e l'altra per le recensioni, sia per il training sia per il test"
   ]
  },
  {
   "cell_type": "code",
   "execution_count": 2,
   "metadata": {},
   "outputs": [],
   "source": [
    "train_file = bz2.BZ2File('train.ft.txt.bz2')\n",
    "test_file = bz2.BZ2File('test.ft.txt.bz2')"
   ]
  },
  {
   "cell_type": "code",
   "execution_count": 3,
   "metadata": {},
   "outputs": [],
   "source": [
    "train_lines = train_file.readlines()\n",
    "test_lines = test_file.readlines()"
   ]
  },
  {
   "cell_type": "code",
   "execution_count": 4,
   "metadata": {},
   "outputs": [],
   "source": [
    "train_file_lines = [x.decode('utf-8') for x in train_lines]\n",
    "test_file_lines = [x.decode('utf-8') for x in test_lines]"
   ]
  },
  {
   "cell_type": "code",
   "execution_count": 5,
   "metadata": {},
   "outputs": [],
   "source": [
    "train_labels = [0 if x.split(' ')[0] == '__label__1' else 1 for x in train_file_lines]\n",
    "train_sentences = [x.split(' ', 1)[1][:-1].lower() for x in train_file_lines]"
   ]
  },
  {
   "cell_type": "code",
   "execution_count": 6,
   "metadata": {},
   "outputs": [],
   "source": [
    "test_labels = [0 if x.split(' ')[0] == '__label__1' else 1 for x in test_file_lines]\n",
    "test_sentences = [x.split(' ', 1)[1][:-1].lower() for x in test_file_lines]"
   ]
  },
  {
   "cell_type": "code",
   "execution_count": 7,
   "metadata": {},
   "outputs": [
    {
     "data": {
      "text/plain": [
       "\"the best soundtrack ever to anything.: i'm reading a lot of reviews saying that this is the best 'game soundtrack' and i figured that i'd write a review to disagree a bit. this in my opinino is yasunori mitsuda's ultimate masterpiece. the music is timeless and i'm been listening to it for years now and its beauty simply refuses to fade.the price tag on this is pretty staggering i must say, but if you are going to buy any cd for this much money, this is the only one that i feel would be worth every penny.\""
      ]
     },
     "execution_count": 7,
     "metadata": {},
     "output_type": "execute_result"
    }
   ],
   "source": [
    "train_sentences[1]"
   ]
  },
  {
   "cell_type": "markdown",
   "metadata": {},
   "source": [
    "Vediamo se il dataset è bilanciato (sia train che test set)"
   ]
  },
  {
   "cell_type": "code",
   "execution_count": 10,
   "metadata": {},
   "outputs": [
    {
     "data": {
      "image/png": "[encoded data removed]",
      "text/plain": [
       "<Figure size 1080x288 with 2 Axes>"
      ]
     },
     "metadata": {
      "needs_background": "light"
     },
     "output_type": "display_data"
    }
   ],
   "source": [
    "fig, axes = plt.subplots(1,2, figsize=(15,4))\n",
    "sns.countplot(train_labels, ax=axes[0])\n",
    "sns.countplot(test_labels, ax=axes[1])\n",
    "plt.show()"
   ]
  },
  {
   "cell_type": "markdown",
   "metadata": {},
   "source": [
    "Trasformiamo il testo tutto in lower case ed effettuiamo alcune operazioni di pulizia del testo"
   ]
  },
  {
   "cell_type": "code",
   "execution_count": 11,
   "metadata": {},
   "outputs": [],
   "source": [
    "\n",
    "import re\n",
    "\n",
    "no_punt= re.compile(r'[\\W]')\n",
    "no_num= re.compile(r'[^a-z-\\s]')\n",
    "def normalize_texts(texts):\n",
    "    normalized_texts = []\n",
    "    for text in texts:\n",
    "        lower = text.lower()\n",
    "        no_punctuation = no_punt.sub(r' ', lower)\n",
    "        no_numer = no_num.sub(r' ', no_punctuation)\n",
    "        normalized_texts.append(no_numer)\n",
    "    \n",
    "    return normalized_texts\n",
    "        \n",
    "train = normalize_texts(train_sentences)\n",
    "test = normalize_texts(test_sentences)"
   ]
  },
  {
   "cell_type": "code",
   "execution_count": 14,
   "metadata": {},
   "outputs": [
    {
     "data": {
      "text/plain": [
       "'remember  pull your jaw off the floor after hearing it  if you ve played the game  you know how divine the music is  every single song tells a story of the game  it s that good  the greatest songs are without a doubt  chrono cross  time s scar  magical dreamers  the wind  the stars  and the sea and radical dreamers  unstolen jewel   translation varies  this music is perfect if you ask me  the best it can be  yasunori mitsuda just poured his heart on and wrote it down on paper '"
      ]
     },
     "execution_count": 14,
     "metadata": {},
     "output_type": "execute_result"
    }
   ],
   "source": [
    "train[4]"
   ]
  },
  {
   "cell_type": "code",
   "execution_count": 15,
   "metadata": {},
   "outputs": [
    {
     "data": {
      "text/plain": [
       "'the best soundtrack ever to anything   i m reading a lot of reviews saying that this is the best  game soundtrack  and i figured that i d write a review to disagree a bit  this in my opinino is yasunori mitsuda s ultimate masterpiece  the music is timeless and i m been listening to it for years now and its beauty simply refuses to fade the price tag on this is pretty staggering i must say  but if you are going to buy any cd for this much money  this is the only one that i feel would be worth every penny '"
      ]
     },
     "execution_count": 15,
     "metadata": {},
     "output_type": "execute_result"
    }
   ],
   "source": [
    "train[1]"
   ]
  },
  {
   "cell_type": "markdown",
   "metadata": {},
   "source": [
    "Riserviamo il 20% del training per la parte di validation"
   ]
  },
  {
   "cell_type": "code",
   "execution_count": 12,
   "metadata": {},
   "outputs": [],
   "source": [
    "from sklearn.model_selection import train_test_split\n",
    "train_texts, val_texts, train_labels, val_labels = train_test_split(\n",
    "    train, train_labels, test_size=0.2)"
   ]
  },
  {
   "cell_type": "markdown",
   "metadata": {},
   "source": [
    "Trasformiamo il testo in token e indiciziamo le parole con la Tokenizer API di Keras"
   ]
  },
  {
   "cell_type": "code",
   "execution_count": 13,
   "metadata": {},
   "outputs": [],
   "source": [
    "\n",
    "tokenizer = Tokenizer(num_words=30000)\n",
    "tokenizer.fit_on_texts(train_texts)\n",
    "train_texts = tokenizer.texts_to_sequences(train_texts)\n",
    "val_texts = tokenizer.texts_to_sequences(val_texts)\n",
    "test_texts = tokenizer.texts_to_sequences(test)\n",
    "\n"
   ]
  },
  {
   "cell_type": "code",
   "execution_count": 18,
   "metadata": {},
   "outputs": [
    {
     "data": {
      "text/plain": [
       "[11223, 8290, 12306, 1551, 2765, 1627]"
      ]
     },
     "execution_count": 18,
     "metadata": {},
     "output_type": "execute_result"
    }
   ],
   "source": [
    "train_texts[1]"
   ]
  },
  {
   "cell_type": "markdown",
   "metadata": {},
   "source": [
    "Vediamo la lunghezza del dizionario e la lunghezza delle recesioni"
   ]
  },
  {
   "cell_type": "code",
   "execution_count": 14,
   "metadata": {},
   "outputs": [
    {
     "data": {
      "text/plain": [
       "763736"
      ]
     },
     "execution_count": 14,
     "metadata": {},
     "output_type": "execute_result"
    }
   ],
   "source": [
    "len(tokenizer.word_index)"
   ]
  },
  {
   "cell_type": "code",
   "execution_count": 15,
   "metadata": {},
   "outputs": [],
   "source": [
    "review_length = [len(train_texts[i]) for i in range(len(train_texts))]"
   ]
  },
  {
   "cell_type": "code",
   "execution_count": 16,
   "metadata": {},
   "outputs": [
    {
     "data": {
      "image/png": "[encoded data removed]",
      "text/plain": [
       "<Figure size 864x576 with 1 Axes>"
      ]
     },
     "metadata": {
      "needs_background": "light"
     },
     "output_type": "display_data"
    }
   ],
   "source": [
    "from collections import Counter\n",
    "\n",
    "c = Counter(review_length)\n",
    "\n",
    "plt.figure(figsize=(12,8))\n",
    "plt.bar(c.keys(), c.values())\n",
    "plt.show()"
   ]
  },
  {
   "cell_type": "code",
   "execution_count": 17,
   "metadata": {},
   "outputs": [
    {
     "data": {
      "text/plain": [
       "253"
      ]
     },
     "execution_count": 17,
     "metadata": {},
     "output_type": "execute_result"
    }
   ],
   "source": [
    "max(c.keys())"
   ]
  },
  {
   "cell_type": "markdown",
   "metadata": {},
   "source": [
    "Dopo alcune prove abbiamo scelto con dimensione massima del dizionario che vogliamo usare 30000.\n",
    "La recensione più lunga nel traingin set risulta essere 253: osservando il grafico e rimuovendo gli outlier che sono più lunghi settiamo il valore maxlen a 230. Inseriamo il padding per uniformare le lunghezze delle review."
   ]
  },
  {
   "cell_type": "code",
   "execution_count": 27,
   "metadata": {},
   "outputs": [],
   "source": [
    "max_review_length = 230\n",
    "MAX_FEATURES = 30000\n"
   ]
  },
  {
   "cell_type": "code",
   "execution_count": 28,
   "metadata": {},
   "outputs": [],
   "source": [
    "from keras.preprocessing import sequence\n",
    "\n",
    "x_train = sequence.pad_sequences(train_texts, maxlen=max_review_length)\n",
    "x_test = sequence.pad_sequences(test_texts, maxlen=max_review_length)\n",
    "val_texts = pad_sequences(val_texts, maxlen=max_review_length)"
   ]
  },
  {
   "cell_type": "code",
   "execution_count": 21,
   "metadata": {},
   "outputs": [
    {
     "data": {
      "text/plain": [
       "array([    0,     0,     0,     0,     0,     0,     0,     0,     0,\n",
       "           0,     0,     0,     0,     0,     0,     0,     0,     0,\n",
       "           0,     0,     0,     0,     0,     0,     0,     0,     0,\n",
       "           0,     0,     0,     0,     0,     0,     0,     0,     0,\n",
       "           0,     0,     0,     0,     0,     0,     0,     0,     0,\n",
       "           0,     0,     0,     0,     0,     0,     0,     0,     0,\n",
       "           0,     0,     0,     0,     0,     0,     0,     0,     0,\n",
       "           0,     0,     0,     0,     0,     0,     0,     0,     0,\n",
       "           0,     0,     0,     0,     0,     0,     0,    26,     7,\n",
       "           1,    88,   145,   118,  6654,    11,     4,   145,     2,\n",
       "         143,    21,    65,   234,  1047,     1,   340,    12,     2,\n",
       "          22,    60,   525,     4,   246,  2637,     7,     1,   145,\n",
       "           1,   118,     2,   313,   617,     1,  1319,     5, 21105,\n",
       "        4807,    91,    14,    31,    24,    68,  1676,    46,     5,\n",
       "         275,     1,  1012,     3,     6,  2524,    26,     7,    23,\n",
       "         293,   561,    51,     9,    44,   943,   892,     7,   215,\n",
       "        2561,     3,  1671,   157,   182,   686,     3,   360,   521,\n",
       "           2,   350,    35,    24,    51,    16,    15,    83,   112,\n",
       "           7,   182,  2658,     7,   157,    10,    23,    76,   271,\n",
       "         145,  6654,     2,   177,  1204,    12,    26,     7,     1,\n",
       "         157,   153,     4,  6258,  2384,    47,  1078,  2074,     5,\n",
       "          23,   882,    19,   112,  4898,    23,    26,  1287,    43,\n",
       "           8,  1012,     9,    12,    32,    93,   687,   934,    10,\n",
       "         112,     7,     1,   157,    91,     2,   138,  3693,    17,\n",
       "          74,    30,   182,  1683,    21,   740,     2,    41,   127,\n",
       "        1028,     1,   366,   161,     6])"
      ]
     },
     "execution_count": 21,
     "metadata": {},
     "output_type": "execute_result"
    }
   ],
   "source": [
    "x_test[1]"
   ]
  },
  {
   "cell_type": "markdown",
   "metadata": {},
   "source": [
    "Addestriamo la prima rete: utilizziamo il layer di Embedding di keras con i pesi inizializzati random e scelti dalla rete durante il traing."
   ]
  },
  {
   "cell_type": "code",
   "execution_count": 89,
   "metadata": {},
   "outputs": [
    {
     "name": "stdout",
     "output_type": "stream",
     "text": [
      "Model: \"sequential_4\"\n",
      "_________________________________________________________________\n",
      "Layer (type)                 Output Shape              Param #   \n",
      "=================================================================\n",
      "embedding_3 (Embedding)      (None, 230, 32)           960000    \n",
      "_________________________________________________________________\n",
      "flatten_2 (Flatten)          (None, 7360)              0         \n",
      "_________________________________________________________________\n",
      "dense_7 (Dense)              (None, 20)                147220    \n",
      "_________________________________________________________________\n",
      "dropout_6 (Dropout)          (None, 20)                0         \n",
      "_________________________________________________________________\n",
      "dense_8 (Dense)              (None, 20)                420       \n",
      "_________________________________________________________________\n",
      "dropout_7 (Dropout)          (None, 20)                0         \n",
      "_________________________________________________________________\n",
      "dense_9 (Dense)              (None, 20)                420       \n",
      "_________________________________________________________________\n",
      "dropout_8 (Dropout)          (None, 20)                0         \n",
      "_________________________________________________________________\n",
      "dense_10 (Dense)             (None, 1)                 21        \n",
      "=================================================================\n",
      "Total params: 1,108,081\n",
      "Trainable params: 1,108,081\n",
      "Non-trainable params: 0\n",
      "_________________________________________________________________\n",
      "None\n"
     ]
    }
   ],
   "source": [
    "from keras.models import Sequential\n",
    "from keras.layers import Dense\n",
    "from keras.layers.embeddings import Embedding\n",
    "from keras.layers import Flatten, Dropout, Bidirectional\n",
    "from keras.callbacks import EarlyStopping\n",
    "from keras import optimizers\n",
    "\n",
    "\n",
    "embedding_vector_length = 32\n",
    "model = Sequential()\n",
    "model.add(Embedding(MAX_FEATURES, embedding_vector_length , input_length=max_review_length))\n",
    "model.add(Flatten())\n",
    "\n",
    "model.add(Dense(20, activation='relu'))\n",
    "model.add(Dropout(0.25))\n",
    "\n",
    "model.add(Dense(20, activation='relu'))\n",
    "model.add(Dropout(0.25))\n",
    "\n",
    "model.add(Dense(20, activation='relu'))\n",
    "\n",
    "model.add(Dropout(0.25))\n",
    "\n",
    "model.add(Dense(1, activation='sigmoid'))\n",
    "\n",
    "early_stopping = EarlyStopping(monitor='val_loss', patience=2)\n",
    "model.compile(loss='binary_crossentropy',optimizer=optimizers.Adam(lr=0.0001), metrics=[\"accuracy\"])\n",
    "    \n",
    "print(model.summary())"
   ]
  },
  {
   "cell_type": "code",
   "execution_count": 90,
   "metadata": {},
   "outputs": [
    {
     "name": "stderr",
     "output_type": "stream",
     "text": [
      "C:\\Users\\calca\\anaconda3\\lib\\site-packages\\tensorflow_core\\python\\framework\\indexed_slices.py:433: UserWarning: Converting sparse IndexedSlices to a dense Tensor of unknown shape. This may consume a large amount of memory.\n",
      "  \"Converting sparse IndexedSlices to a dense Tensor of unknown shape. \"\n"
     ]
    },
    {
     "name": "stdout",
     "output_type": "stream",
     "text": [
      "Train on 2880000 samples, validate on 720000 samples\n",
      "Epoch 1/100\n",
      "2880000/2880000 [==============================] - 262s 91us/step - loss: 0.2980 - accuracy: 0.8746 - val_loss: 0.2203 - val_accuracy: 0.9129\n",
      "Epoch 2/100\n",
      "2880000/2880000 [==============================] - 258s 90us/step - loss: 0.2254 - accuracy: 0.9146 - val_loss: 0.2141 - val_accuracy: 0.9154\n",
      "Epoch 3/100\n",
      "2880000/2880000 [==============================] - 251s 87us/step - loss: 0.2137 - accuracy: 0.9189 - val_loss: 0.2087 - val_accuracy: 0.9177\n",
      "Epoch 4/100\n",
      "2880000/2880000 [==============================] - 250s 87us/step - loss: 0.2054 - accuracy: 0.9225 - val_loss: 0.2061 - val_accuracy: 0.9190\n",
      "Epoch 5/100\n",
      "2880000/2880000 [==============================] - 251s 87us/step - loss: 0.1984 - accuracy: 0.9256 - val_loss: 0.2058 - val_accuracy: 0.9198\n",
      "Epoch 6/100\n",
      "2880000/2880000 [==============================] - 251s 87us/step - loss: 0.1914 - accuracy: 0.9284 - val_loss: 0.2052 - val_accuracy: 0.9201\n",
      "Epoch 7/100\n",
      "2880000/2880000 [==============================] - 253s 88us/step - loss: 0.1850 - accuracy: 0.9312 - val_loss: 0.2071 - val_accuracy: 0.9196\n",
      "Epoch 8/100\n",
      "2880000/2880000 [==============================] - 253s 88us/step - loss: 0.1786 - accuracy: 0.9340 - val_loss: 0.2103 - val_accuracy: 0.9195\n"
     ]
    }
   ],
   "source": [
    "hist = model.fit(x_train,  train_labels, validation_data=(val_texts, val_labels), epochs=100, batch_size=500,callbacks=[early_stopping])\n"
   ]
  },
  {
   "cell_type": "markdown",
   "metadata": {},
   "source": [
    "Vediamo graficamente il confronto tra training set e validation set per accuracy e loss."
   ]
  },
  {
   "cell_type": "code",
   "execution_count": 91,
   "metadata": {},
   "outputs": [
    {
     "data": {
      "image/png": "[encoded data removed]",
      "text/plain": [
       "<Figure size 432x288 with 1 Axes>"
      ]
     },
     "metadata": {
      "needs_background": "light"
     },
     "output_type": "display_data"
    },
    {
     "data": {
      "image/png": "[encoded data removed]",
      "text/plain": [
       "<Figure size 432x288 with 1 Axes>"
      ]
     },
     "metadata": {
      "needs_background": "light"
     },
     "output_type": "display_data"
    }
   ],
   "source": [
    "import matplotlib.pyplot as plt\n",
    "\n",
    "acc = hist.history['accuracy']\n",
    "val_acc = hist.history['val_accuracy']\n",
    "loss = hist.history['loss']\n",
    "val_loss = hist.history['val_loss']\n",
    "epochs = range(1, len(acc) + 1)\n",
    "\n",
    "plt.plot(epochs, acc, 'b', label='Training acc')\n",
    "plt.plot(epochs, val_acc, 'g', label='Validation acc')\n",
    "plt.xlabel('Epochs')\n",
    "plt.ylabel('Accuracy')\n",
    "\n",
    "plt.title('Training and validation accuracy')\n",
    "plt.legend()\n",
    "fig = plt.figure()\n",
    "#fig.savefig('acc.png')\n",
    "\n",
    "\n",
    "plt.plot(epochs, loss, 'b', label='Training loss')\n",
    "plt.plot(epochs, val_loss, 'g', label='Validation loss')\n",
    "plt.xlabel('Epochs')\n",
    "plt.ylabel('Loss')\n",
    "plt.title('Training and validation loss')\n",
    "\n",
    "plt.legend()\n",
    "plt.show()"
   ]
  },
  {
   "cell_type": "code",
   "execution_count": 92,
   "metadata": {},
   "outputs": [
    {
     "name": "stdout",
     "output_type": "stream",
     "text": [
      "400000/400000 [==============================] - 17s 44us/step\n",
      "Test Score: 0.21283608397632836\n",
      "Test Accuracy: 0.9183124899864197\n"
     ]
    }
   ],
   "source": [
    "#valutiamo il primo modello\n",
    "score = model.evaluate(x_test, test_labels, verbose=1)\n",
    "\n",
    "print(\"Test Score:\", score[0])\n",
    "print(\"Test Accuracy:\", score[1])"
   ]
  },
  {
   "cell_type": "code",
   "execution_count": 93,
   "metadata": {},
   "outputs": [
    {
     "name": "stdout",
     "output_type": "stream",
     "text": [
      "Confusion Matrix\n",
      "[[182716  17284]\n",
      " [ 15391 184609]]\n",
      "Classification Report\n",
      "              precision    recall  f1-score   support\n",
      "\n",
      "           0       0.92      0.91      0.92    200000\n",
      "           1       0.91      0.92      0.92    200000\n",
      "\n",
      "    accuracy                           0.92    400000\n",
      "   macro avg       0.92      0.92      0.92    400000\n",
      "weighted avg       0.92      0.92      0.92    400000\n",
      "\n"
     ]
    }
   ],
   "source": [
    "from sklearn.metrics import confusion_matrix, classification_report\n",
    "import numpy as np\n",
    "\n",
    "y_pred = model.predict(x_test).flatten()\n",
    "y_pred = np.round(y_pred)\n",
    "\n",
    "# compute confusion matrix\n",
    "print (\"Confusion Matrix\")\n",
    "print ( confusion_matrix(test_labels, y_pred))\n",
    "\n",
    "# compute classification report\n",
    "print (\"Classification Report\")\n",
    "print ( classification_report(test_labels, y_pred))"
   ]
  },
  {
   "cell_type": "markdown",
   "metadata": {},
   "source": [
    "Addestriamo ora una RNN di tipo LSTM"
   ]
  },
  {
   "cell_type": "code",
   "execution_count": 80,
   "metadata": {},
   "outputs": [
    {
     "name": "stderr",
     "output_type": "stream",
     "text": [
      "C:\\Users\\calca\\anaconda3\\lib\\site-packages\\tensorflow_core\\python\\framework\\indexed_slices.py:433: UserWarning: Converting sparse IndexedSlices to a dense Tensor of unknown shape. This may consume a large amount of memory.\n",
      "  \"Converting sparse IndexedSlices to a dense Tensor of unknown shape. \"\n"
     ]
    },
    {
     "name": "stdout",
     "output_type": "stream",
     "text": [
      "Train on 2880000 samples, validate on 720000 samples\n",
      "Epoch 1/100\n",
      "2880000/2880000 [==============================] - 1099s 382us/step - loss: 0.4120 - accuracy: 0.8451 - val_loss: 0.2267 - val_accuracy: 0.9138\n",
      "Epoch 2/100\n",
      "2880000/2880000 [==============================] - 1080s 375us/step - loss: 0.2483 - accuracy: 0.9133 - val_loss: 0.2050 - val_accuracy: 0.9199\n",
      "Epoch 3/100\n",
      "2880000/2880000 [==============================] - 926s 321us/step - loss: 0.2328 - accuracy: 0.9183 - val_loss: 0.1966 - val_accuracy: 0.9244\n",
      "Epoch 4/100\n",
      "2880000/2880000 [==============================] - 913s 317us/step - loss: 0.2235 - accuracy: 0.9219 - val_loss: 0.1884 - val_accuracy: 0.9284\n",
      "Epoch 5/100\n",
      "2880000/2880000 [==============================] - 913s 317us/step - loss: 0.2139 - accuracy: 0.9259 - val_loss: 0.1802 - val_accuracy: 0.9329\n",
      "Epoch 6/100\n",
      "2880000/2880000 [==============================] - 923s 320us/step - loss: 0.2049 - accuracy: 0.9297 - val_loss: 0.1732 - val_accuracy: 0.9355\n",
      "Epoch 7/100\n",
      "2880000/2880000 [==============================] - 923s 320us/step - loss: 0.1978 - accuracy: 0.9325 - val_loss: 0.1663 - val_accuracy: 0.9379\n",
      "Epoch 8/100\n",
      "2880000/2880000 [==============================] - 860s 299us/step - loss: 0.1929 - accuracy: 0.9342 - val_loss: 0.1630 - val_accuracy: 0.9394\n",
      "Epoch 9/100\n",
      "2880000/2880000 [==============================] - 911s 316us/step - loss: 0.1892 - accuracy: 0.9358 - val_loss: 0.1610 - val_accuracy: 0.9403\n",
      "Epoch 10/100\n",
      "2880000/2880000 [==============================] - 908s 315us/step - loss: 0.1868 - accuracy: 0.9367 - val_loss: 0.1599 - val_accuracy: 0.9412\n",
      "Epoch 11/100\n",
      "2880000/2880000 [==============================] - 903s 314us/step - loss: 0.1847 - accuracy: 0.9375 - val_loss: 0.1576 - val_accuracy: 0.9418\n",
      "Epoch 12/100\n",
      "2880000/2880000 [==============================] - 915s 318us/step - loss: 0.1830 - accuracy: 0.9381 - val_loss: 0.1567 - val_accuracy: 0.9419\n",
      "Epoch 13/100\n",
      "2880000/2880000 [==============================] - 920s 319us/step - loss: 0.1814 - accuracy: 0.9389 - val_loss: 0.1583 - val_accuracy: 0.9416\n",
      "Epoch 14/100\n",
      "2880000/2880000 [==============================] - 854s 297us/step - loss: 0.1800 - accuracy: 0.9394 - val_loss: 0.1550 - val_accuracy: 0.9432\n",
      "Epoch 15/100\n",
      "2880000/2880000 [==============================] - 843s 293us/step - loss: 0.1791 - accuracy: 0.9397 - val_loss: 0.1556 - val_accuracy: 0.9428\n",
      "Epoch 16/100\n",
      "2880000/2880000 [==============================] - 842s 293us/step - loss: 0.1782 - accuracy: 0.9402 - val_loss: 0.1567 - val_accuracy: 0.9428\n",
      "Epoch 17/100\n",
      "2880000/2880000 [==============================] - 836s 290us/step - loss: 0.1771 - accuracy: 0.9404 - val_loss: 0.1531 - val_accuracy: 0.9440\n",
      "Epoch 18/100\n",
      "2880000/2880000 [==============================] - 846s 294us/step - loss: 0.1766 - accuracy: 0.9408 - val_loss: 0.1541 - val_accuracy: 0.9431\n",
      "Epoch 19/100\n",
      "2880000/2880000 [==============================] - 845s 293us/step - loss: 0.1760 - accuracy: 0.9410 - val_loss: 0.1527 - val_accuracy: 0.9445\n",
      "Epoch 20/100\n",
      "2880000/2880000 [==============================] - 919s 319us/step - loss: 0.1750 - accuracy: 0.9414 - val_loss: 0.1547 - val_accuracy: 0.9428\n",
      "Epoch 21/100\n",
      "2880000/2880000 [==============================] - 1135s 394us/step - loss: 0.1747 - accuracy: 0.9417 - val_loss: 0.1527 - val_accuracy: 0.9438\n",
      "Epoch 22/100\n",
      "2880000/2880000 [==============================] - 1151s 400us/step - loss: 0.1739 - accuracy: 0.9419 - val_loss: 0.1529 - val_accuracy: 0.9437\n",
      "Epoch 23/100\n",
      "2880000/2880000 [==============================] - 1150s 399us/step - loss: 0.1736 - accuracy: 0.9418 - val_loss: 0.1523 - val_accuracy: 0.9446\n",
      "Epoch 24/100\n",
      "2880000/2880000 [==============================] - 1184s 411us/step - loss: 0.1733 - accuracy: 0.9422 - val_loss: 0.1539 - val_accuracy: 0.9443\n",
      "Epoch 25/100\n",
      "2880000/2880000 [==============================] - 1000s 347us/step - loss: 0.1728 - accuracy: 0.9424 - val_loss: 0.1503 - val_accuracy: 0.9448\n",
      "Epoch 26/100\n",
      "2880000/2880000 [==============================] - 892s 310us/step - loss: 0.1728 - accuracy: 0.9425 - val_loss: 0.1514 - val_accuracy: 0.9450\n",
      "Epoch 27/100\n",
      "2880000/2880000 [==============================] - 966s 335us/step - loss: 0.1721 - accuracy: 0.9427 - val_loss: 0.1501 - val_accuracy: 0.9450\n",
      "Epoch 28/100\n",
      "2880000/2880000 [==============================] - 940s 326us/step - loss: 0.1720 - accuracy: 0.9428 - val_loss: 0.1502 - val_accuracy: 0.9451\n",
      "Epoch 29/100\n",
      "2880000/2880000 [==============================] - 917s 318us/step - loss: 0.1714 - accuracy: 0.9430 - val_loss: 0.1499 - val_accuracy: 0.9451\n",
      "Epoch 30/100\n",
      "2880000/2880000 [==============================] - 984s 342us/step - loss: 0.1713 - accuracy: 0.9431 - val_loss: 0.1512 - val_accuracy: 0.9452\n",
      "Epoch 31/100\n",
      "2880000/2880000 [==============================] - 944s 328us/step - loss: 0.1709 - accuracy: 0.9432 - val_loss: 0.1551 - val_accuracy: 0.9427\n",
      "Epoch 32/100\n",
      "2880000/2880000 [==============================] - 992s 344us/step - loss: 0.1708 - accuracy: 0.9433 - val_loss: 0.1505 - val_accuracy: 0.9450\n"
     ]
    }
   ],
   "source": [
    "from keras.layers.embeddings import Embedding\n",
    "model = Sequential()\n",
    "\n",
    "embedding_vector_length = 32\n",
    "model.add(Embedding(MAX_FEATURES, embedding_vector_length , input_length=max_review_length))\n",
    " \n",
    "model.add(LSTM(6))\n",
    "model.add(Dropout(0.25))\n",
    "model.add(Dense(6, activation='relu'))\n",
    "\n",
    "model.add(Dropout(0.25))\n",
    "          \n",
    "model.add(Dense(1,activation='sigmoid'))\n",
    "\n",
    "early_stopping = EarlyStopping(monitor='val_loss', patience=3)\n",
    "model.compile(loss='binary_crossentropy',optimizer=optimizers.rmsprop(lr=0.0001), metrics=['accuracy'])\n",
    "\n",
    "\n",
    "hist = model.fit(x_train,  train_labels, validation_data=(val_texts, val_labels), epochs=100, batch_size=500,callbacks=[early_stopping])"
   ]
  },
  {
   "cell_type": "code",
   "execution_count": 81,
   "metadata": {},
   "outputs": [
    {
     "name": "stdout",
     "output_type": "stream",
     "text": [
      "400000/400000 [==============================] - 216s 540us/step\n",
      "Test Score: 0.1525166356967017\n",
      "Test Accuracy: 0.9443075060844421\n"
     ]
    }
   ],
   "source": [
    "#valutazione\n",
    "score = model.evaluate(x_test, test_labels, verbose=1)\n",
    "\n",
    "print(\"Test Score:\", score[0])\n",
    "print(\"Test Accuracy:\", score[1])"
   ]
  },
  {
   "cell_type": "code",
   "execution_count": 82,
   "metadata": {},
   "outputs": [
    {
     "name": "stdout",
     "output_type": "stream",
     "text": [
      "Confusion Matrix\n",
      "[[190397   9603]\n",
      " [ 12674 187326]]\n",
      "Classification Report\n",
      "              precision    recall  f1-score   support\n",
      "\n",
      "           0       0.94      0.95      0.94    200000\n",
      "           1       0.95      0.94      0.94    200000\n",
      "\n",
      "    accuracy                           0.94    400000\n",
      "   macro avg       0.94      0.94      0.94    400000\n",
      "weighted avg       0.94      0.94      0.94    400000\n",
      "\n"
     ]
    }
   ],
   "source": [
    "from sklearn.metrics import confusion_matrix, classification_report\n",
    "import numpy as np\n",
    "\n",
    "y_pred = model.predict(x_test).flatten()\n",
    "y_pred = np.round(y_pred)\n",
    "\n",
    "# compute confusion matrix\n",
    "print (\"Confusion Matrix\")\n",
    "print ( confusion_matrix(test_labels, y_pred))\n",
    "\n",
    "# compute classification report\n",
    "print (\"Classification Report\")\n",
    "print ( classification_report(test_labels, y_pred))"
   ]
  },
  {
   "cell_type": "code",
   "execution_count": 83,
   "metadata": {},
   "outputs": [
    {
     "data": {
      "image/png": "[encoded data removed]",
      "text/plain": [
       "<Figure size 432x288 with 1 Axes>"
      ]
     },
     "metadata": {
      "needs_background": "light"
     },
     "output_type": "display_data"
    },
    {
     "data": {
      "image/png": "[encoded data removed]",
      "text/plain": [
       "<Figure size 432x288 with 1 Axes>"
      ]
     },
     "metadata": {
      "needs_background": "light"
     },
     "output_type": "display_data"
    }
   ],
   "source": [
    "import matplotlib.pyplot as plt\n",
    "\n",
    "acc = hist.history['accuracy']\n",
    "val_acc = hist.history['val_accuracy']\n",
    "loss = hist.history['loss']\n",
    "val_loss = hist.history['val_loss']\n",
    "epochs = range(1, len(acc) + 1)\n",
    "\n",
    "plt.plot(epochs, acc, 'b', label='Training acc')\n",
    "plt.plot(epochs, val_acc, 'g', label='Validation acc')\n",
    "plt.xlabel('Epochs')\n",
    "plt.ylabel('Accuracy')\n",
    "\n",
    "plt.title('Training and validation accuracy')\n",
    "plt.legend()\n",
    "fig = plt.figure()\n",
    "#fig.savefig('acc.png')\n",
    "\n",
    "\n",
    "plt.plot(epochs, loss, 'b', label='Training loss')\n",
    "plt.plot(epochs, val_loss, 'g', label='Validation loss')\n",
    "plt.xlabel('Epochs')\n",
    "plt.ylabel('Loss')\n",
    "plt.title('Training and validation loss')\n",
    "\n",
    "plt.legend()\n",
    "plt.show()"
   ]
  },
  {
   "cell_type": "markdown",
   "metadata": {},
   "source": [
    "Addestriamo ora una rete convoluzionale con un layer convoluzionale di tipo 1D."
   ]
  },
  {
   "cell_type": "code",
   "execution_count": 29,
   "metadata": {},
   "outputs": [
    {
     "name": "stderr",
     "output_type": "stream",
     "text": [
      "C:\\Users\\calca\\anaconda3\\lib\\site-packages\\tensorflow_core\\python\\framework\\indexed_slices.py:433: UserWarning: Converting sparse IndexedSlices to a dense Tensor of unknown shape. This may consume a large amount of memory.\n",
      "  \"Converting sparse IndexedSlices to a dense Tensor of unknown shape. \"\n"
     ]
    },
    {
     "name": "stdout",
     "output_type": "stream",
     "text": [
      "Train on 2880000 samples, validate on 720000 samples\n",
      "Epoch 1/100\n",
      "2880000/2880000 [==============================] - 729s 253us/step - loss: 0.2895 - accuracy: 0.8746 - val_loss: 0.2073 - val_accuracy: 0.9191\n",
      "Epoch 2/100\n",
      "2880000/2880000 [==============================] - 701s 244us/step - loss: 0.2040 - accuracy: 0.9223 - val_loss: 0.1880 - val_accuracy: 0.9282\n",
      "Epoch 3/100\n",
      "2880000/2880000 [==============================] - 684s 237us/step - loss: 0.1880 - accuracy: 0.9295 - val_loss: 0.1758 - val_accuracy: 0.9334\n",
      "Epoch 4/100\n",
      "2880000/2880000 [==============================] - 636s 221us/step - loss: 0.1789 - accuracy: 0.9335 - val_loss: 0.1693 - val_accuracy: 0.9362\n",
      "Epoch 5/100\n",
      "2880000/2880000 [==============================] - 634s 220us/step - loss: 0.1728 - accuracy: 0.9362 - val_loss: 0.1648 - val_accuracy: 0.9381\n",
      "Epoch 6/100\n",
      "2880000/2880000 [==============================] - 635s 220us/step - loss: 0.1683 - accuracy: 0.9382 - val_loss: 0.1625 - val_accuracy: 0.9392\n",
      "Epoch 7/100\n",
      "2880000/2880000 [==============================] - 642s 223us/step - loss: 0.1651 - accuracy: 0.9396 - val_loss: 0.1594 - val_accuracy: 0.9404\n",
      "Epoch 8/100\n",
      "2880000/2880000 [==============================] - 627s 218us/step - loss: 0.1628 - accuracy: 0.9408 - val_loss: 0.1583 - val_accuracy: 0.9410\n",
      "Epoch 9/100\n",
      "2880000/2880000 [==============================] - 647s 225us/step - loss: 0.1606 - accuracy: 0.9417 - val_loss: 0.1570 - val_accuracy: 0.9415\n",
      "Epoch 10/100\n",
      "2880000/2880000 [==============================] - 653s 227us/step - loss: 0.1590 - accuracy: 0.9425 - val_loss: 0.1564 - val_accuracy: 0.9420\n",
      "Epoch 11/100\n",
      "2880000/2880000 [==============================] - 680s 236us/step - loss: 0.1578 - accuracy: 0.9431 - val_loss: 0.1556 - val_accuracy: 0.9424\n",
      "Epoch 12/100\n",
      "2880000/2880000 [==============================] - 670s 233us/step - loss: 0.1567 - accuracy: 0.9436 - val_loss: 0.1552 - val_accuracy: 0.9425\n",
      "Epoch 13/100\n",
      "2880000/2880000 [==============================] - 669s 232us/step - loss: 0.1557 - accuracy: 0.9440 - val_loss: 0.1547 - val_accuracy: 0.9427\n",
      "Epoch 14/100\n",
      "2880000/2880000 [==============================] - 656s 228us/step - loss: 0.1550 - accuracy: 0.9444 - val_loss: 0.1545 - val_accuracy: 0.9429\n",
      "Epoch 15/100\n",
      "2880000/2880000 [==============================] - 676s 235us/step - loss: 0.1542 - accuracy: 0.9448 - val_loss: 0.1542 - val_accuracy: 0.9429\n",
      "Epoch 16/100\n",
      "2880000/2880000 [==============================] - 682s 237us/step - loss: 0.1538 - accuracy: 0.9450 - val_loss: 0.1545 - val_accuracy: 0.9430\n",
      "Epoch 17/100\n",
      "2880000/2880000 [==============================] - 663s 230us/step - loss: 0.1534 - accuracy: 0.9453 - val_loss: 0.1536 - val_accuracy: 0.9431\n",
      "Epoch 18/100\n",
      "2880000/2880000 [==============================] - 664s 231us/step - loss: 0.1526 - accuracy: 0.9455 - val_loss: 0.1545 - val_accuracy: 0.9432\n",
      "Epoch 19/100\n",
      "2880000/2880000 [==============================] - 661s 230us/step - loss: 0.1522 - accuracy: 0.9457 - val_loss: 0.1535 - val_accuracy: 0.9432\n",
      "Epoch 20/100\n",
      "2880000/2880000 [==============================] - 672s 233us/step - loss: 0.1521 - accuracy: 0.9458 - val_loss: 0.1535 - val_accuracy: 0.9434\n",
      "Epoch 21/100\n",
      "2880000/2880000 [==============================] - 661s 229us/step - loss: 0.1518 - accuracy: 0.9459 - val_loss: 0.1534 - val_accuracy: 0.9434\n",
      "Epoch 22/100\n",
      "2880000/2880000 [==============================] - 662s 230us/step - loss: 0.1516 - accuracy: 0.9460 - val_loss: 0.1530 - val_accuracy: 0.9434\n",
      "Epoch 23/100\n",
      "2880000/2880000 [==============================] - 667s 232us/step - loss: 0.1511 - accuracy: 0.9462 - val_loss: 0.1530 - val_accuracy: 0.9434\n",
      "Epoch 24/100\n",
      "2880000/2880000 [==============================] - 663s 230us/step - loss: 0.1510 - accuracy: 0.9462 - val_loss: 0.1527 - val_accuracy: 0.9436\n",
      "Epoch 25/100\n",
      "2880000/2880000 [==============================] - 662s 230us/step - loss: 0.1507 - accuracy: 0.9464 - val_loss: 0.1528 - val_accuracy: 0.9435\n",
      "Epoch 26/100\n",
      "2880000/2880000 [==============================] - 654s 227us/step - loss: 0.1507 - accuracy: 0.9464 - val_loss: 0.1542 - val_accuracy: 0.9431\n"
     ]
    }
   ],
   "source": [
    "from keras.models import Sequential\n",
    "from keras.layers import Dense, Activation, Conv2D, MaxPooling1D, Flatten, Conv1D, Dropout\n",
    "\n",
    "# initialize the network\n",
    "embedding_vector_length = 32\n",
    "\n",
    "model= Sequential()\n",
    "model.add(Embedding(MAX_FEATURES, embedding_vector_length, input_length=max_review_length))\n",
    "\n",
    "\n",
    "\n",
    "model.add(Conv1D(filters=20, kernel_size=3,\n",
    "                 padding='valid',\n",
    "                 activation='relu'))\n",
    "\n",
    "\n",
    "model.add(MaxPooling1D())\n",
    "model.add(Flatten())       \n",
    "model.add(Dropout(0.25))\n",
    "model.add(Dense(24, activation='relu'))\n",
    "\n",
    "model.add(Dropout(0.25))\n",
    "          \n",
    "\n",
    "# finalize the network\n",
    "model.add(Dense(1, activation='sigmoid'))\n",
    "model.compile(loss='binary_crossentropy',optimizer=optimizers.rmsprop(lr=0.0001), metrics=['accuracy'])\n",
    "\n",
    "early_stopping = EarlyStopping(monitor='val_loss', patience=2)\n",
    "# train the network\n",
    "hist = model.fit(x_train,  train_labels, validation_data=(val_texts, val_labels), epochs=100, batch_size=500,callbacks=[early_stopping])"
   ]
  },
  {
   "cell_type": "code",
   "execution_count": 30,
   "metadata": {},
   "outputs": [
    {
     "data": {
      "image/png": "[encoded data removed]",
      "text/plain": [
       "<Figure size 432x288 with 1 Axes>"
      ]
     },
     "metadata": {
      "needs_background": "light"
     },
     "output_type": "display_data"
    },
    {
     "data": {
      "image/png": "[encoded data removed]",
      "text/plain": [
       "<Figure size 432x288 with 1 Axes>"
      ]
     },
     "metadata": {
      "needs_background": "light"
     },
     "output_type": "display_data"
    }
   ],
   "source": [
    "import matplotlib.pyplot as plt\n",
    "\n",
    "acc = hist.history['accuracy']\n",
    "val_acc = hist.history['val_accuracy']\n",
    "loss = hist.history['loss']\n",
    "val_loss = hist.history['val_loss']\n",
    "epochs = range(1, len(acc) + 1)\n",
    "\n",
    "plt.plot(epochs, acc, 'b', label='Training acc')\n",
    "plt.plot(epochs, val_acc, 'g', label='Validation acc')\n",
    "plt.xlabel('Epochs')\n",
    "plt.ylabel('Accuracy')\n",
    "\n",
    "plt.title('Training and validation accuracy')\n",
    "plt.legend()\n",
    "fig = plt.figure()\n",
    "#fig.savefig('acc.png')\n",
    "\n",
    "\n",
    "plt.plot(epochs, loss, 'b', label='Training loss')\n",
    "plt.plot(epochs, val_loss, 'g', label='Validation loss')\n",
    "plt.xlabel('Epochs')\n",
    "plt.ylabel('Loss')\n",
    "plt.title('Training and validation loss')\n",
    "\n",
    "plt.legend()\n",
    "plt.show()"
   ]
  },
  {
   "cell_type": "code",
   "execution_count": 31,
   "metadata": {},
   "outputs": [
    {
     "name": "stdout",
     "output_type": "stream",
     "text": [
      "Confusion Matrix\n",
      "[[190662   9338]\n",
      " [ 13406 186594]]\n",
      "Classification Report\n",
      "              precision    recall  f1-score   support\n",
      "\n",
      "           0       0.93      0.95      0.94    200000\n",
      "           1       0.95      0.93      0.94    200000\n",
      "\n",
      "    accuracy                           0.94    400000\n",
      "   macro avg       0.94      0.94      0.94    400000\n",
      "weighted avg       0.94      0.94      0.94    400000\n",
      "\n"
     ]
    }
   ],
   "source": [
    "from sklearn.metrics import confusion_matrix, classification_report\n",
    "import numpy as np\n",
    "\n",
    "y_pred = model.predict(x_test).flatten()\n",
    "y_pred = np.round(y_pred)\n",
    "\n",
    "# compute confusion matrix\n",
    "print (\"Confusion Matrix\")\n",
    "print ( confusion_matrix(test_labels, y_pred) )\n",
    "\n",
    "# compute classification report\n",
    "print (\"Classification Report\")\n",
    "print ( classification_report(test_labels, y_pred) )"
   ]
  },
  {
   "cell_type": "code",
   "execution_count": 32,
   "metadata": {},
   "outputs": [
    {
     "name": "stdout",
     "output_type": "stream",
     "text": [
      "400000/400000 [==============================] - 38s 95us/step\n",
      "Test Score: 0.15501950088649988\n",
      "Test Accuracy: 0.9431399703025818\n"
     ]
    }
   ],
   "source": [
    "score = model.evaluate(x_test, test_labels, verbose=1)\n",
    "\n",
    "print(\"Test Score:\", score[0])\n",
    "print(\"Test Accuracy:\", score[1])"
   ]
  },
  {
   "cell_type": "markdown",
   "metadata": {},
   "source": [
    "#### Pre-trained word embedding"
   ]
  },
  {
   "cell_type": "markdown",
   "metadata": {},
   "source": [
    "Riportiamo qui gli step fatti per fare il training della rete con pre-trained word embedding nell'embedding layer"
   ]
  },
  {
   "cell_type": "markdown",
   "metadata": {},
   "source": [
    "Costruiamo un medello word2vec con le recensioni"
   ]
  },
  {
   "cell_type": "code",
   "execution_count": 18,
   "metadata": {},
   "outputs": [],
   "source": [
    "from gensim.models import Word2Vec\n",
    "from nltk import word_tokenize"
   ]
  },
  {
   "cell_type": "code",
   "execution_count": null,
   "metadata": {},
   "outputs": [],
   "source": [
    "tok_sents = [word_tokenize(text) for text in train_texts[:100000]]\n",
    "\n",
    "w2v_model = Word2Vec(tok_sents, size=300, window=10, min_count=5, sg=1, iter=20, negative=10)\n",
    "w2v_model.wv.save_word2vec_format('reviews_embedding_word2vec_100k.txt')"
   ]
  },
  {
   "cell_type": "markdown",
   "metadata": {},
   "source": [
    "Costruiamo ora l'embedding index e l'embedding matrix da passare all'embedding layer"
   ]
  },
  {
   "cell_type": "code",
   "execution_count": 19,
   "metadata": {},
   "outputs": [],
   "source": [
    "embedding_index = {}\n",
    "with open('reviews_embedding_word2vec_100k.txt', encoding = 'utf-8') as input_handle:\n",
    "    line = input_handle.readline()\n",
    "    while True:\n",
    "        line = input_handle.readline()    \n",
    "        if line == \"\":\n",
    "            break\n",
    "        values = line.split()\n",
    "        word = values[0]\n",
    "        coef = np.asarray(values[1:])\n",
    "        embedding_index[word] = coef"
   ]
  },
  {
   "cell_type": "code",
   "execution_count": 20,
   "metadata": {},
   "outputs": [],
   "source": [
    "embedding_vector_length = 300\n",
    "word_index = tokenizer.word_index\n",
    "num_word = 30000\n",
    "\n",
    "embedding_matix = np.zeros((num_word, embedding_vector_length))\n",
    "\n",
    "for word, i in word_index.items():\n",
    "    if i > num_word:\n",
    "        continue\n",
    "    embedding_vector = embedding_index.get(word)\n",
    "    if embedding_vector is not None:\n",
    "        embedding_matix[i] = embedding_vector"
   ]
  },
  {
   "cell_type": "markdown",
   "metadata": {},
   "source": [
    "Riportiamo qui la rete allenata usando questo embedding con un solo livello denso (è stata testata con la stessa configuazione usata sopra (3 livelli hidden densi) e ottenuto in ogni caso risultati peggiori rispetto alla rete con embedding layer con pesi default)."
   ]
  },
  {
   "cell_type": "code",
   "execution_count": 25,
   "metadata": {},
   "outputs": [
    {
     "name": "stdout",
     "output_type": "stream",
     "text": [
      "Model: \"sequential_5\"\n",
      "_________________________________________________________________\n",
      "Layer (type)                 Output Shape              Param #   \n",
      "=================================================================\n",
      "embedding_3 (Embedding)      (None, 230, 300)          9000000   \n",
      "_________________________________________________________________\n",
      "flatten_2 (Flatten)          (None, 69000)             0         \n",
      "_________________________________________________________________\n",
      "dense_3 (Dense)              (None, 50)                3450050   \n",
      "_________________________________________________________________\n",
      "dropout_2 (Dropout)          (None, 50)                0         \n",
      "_________________________________________________________________\n",
      "dense_4 (Dense)              (None, 1)                 51        \n",
      "=================================================================\n",
      "Total params: 12,450,101\n",
      "Trainable params: 3,450,101\n",
      "Non-trainable params: 9,000,000\n",
      "_________________________________________________________________\n",
      "None\n"
     ]
    }
   ],
   "source": [
    "from keras.models import Sequential\n",
    "from keras.layers import Dense\n",
    "from keras.layers.embeddings import Embedding\n",
    "from keras.layers import Flatten, Dropout, Bidirectional\n",
    "from keras.initializers import Constant\n",
    "from keras.callbacks import EarlyStopping\n",
    "from keras import optimizers\n",
    "\n",
    "\n",
    "max_review_length = 230\n",
    "MAX_FEATURES = 30000\n",
    "embedding_vector_length = 300\n",
    "\n",
    "model = Sequential()\n",
    "embedding_layer = Embedding(MAX_FEATURES, \n",
    "                            embedding_vector_length,\n",
    "                            embeddings_initializer= Constant(embedding_matix),\n",
    "                            input_length=max_review_length,\n",
    "                            trainable=False)\n",
    "model.add(embedding_layer)\n",
    "model.add(Flatten())\n",
    "\n",
    "model.add(Dense(50, activation='relu'))\n",
    "model.add(Dropout(0.25))\n",
    "\n",
    "model.add(Dense(1, activation='sigmoid'))\n",
    "early_stopping = EarlyStopping(monitor='val_loss', patience=2)\n",
    "model.compile(loss='binary_crossentropy', optimizer=optimizers.Adam(lr=0.0001), metrics=['accuracy'])\n",
    "print(model.summary())"
   ]
  },
  {
   "cell_type": "code",
   "execution_count": 29,
   "metadata": {},
   "outputs": [
    {
     "name": "stdout",
     "output_type": "stream",
     "text": [
      "Train on 2880000 samples, validate on 720000 samples\n",
      "Epoch 1/100\n",
      "2880000/2880000 [==============================] - 1628s 565us/step - loss: 0.3090 - accuracy: 0.8686 - val_loss: 0.2812 - val_accuracy: 0.8808\n",
      "Epoch 2/100\n",
      "2880000/2880000 [==============================] - 1495s 519us/step - loss: 0.2703 - accuracy: 0.8874 - val_loss: 0.2708 - val_accuracy: 0.8868\n",
      "Epoch 3/100\n",
      "2880000/2880000 [==============================] - 1377s 478us/step - loss: 0.2492 - accuracy: 0.8979 - val_loss: 0.2661 - val_accuracy: 0.8899\n",
      "Epoch 4/100\n",
      "2880000/2880000 [==============================] - 1380s 479us/step - loss: 0.2299 - accuracy: 0.9077 - val_loss: 0.2669 - val_accuracy: 0.8904\n",
      "Epoch 5/100\n",
      "2880000/2880000 [==============================] - 1378s 479us/step - loss: 0.2123 - accuracy: 0.9160 - val_loss: 0.2706 - val_accuracy: 0.8916\n"
     ]
    }
   ],
   "source": [
    "hist = model.fit(x_train,  train_labels, validation_data=(val_texts, val_labels), epochs=100, batch_size=500,callbacks=[early_stopping])"
   ]
  },
  {
   "cell_type": "markdown",
   "metadata": {},
   "source": [
    "Costruiamo ora l'embedding index e l'embedding matrix da passare all'embedding layer usando il pre-trained embedding GloVe."
   ]
  },
  {
   "cell_type": "code",
   "execution_count": 30,
   "metadata": {},
   "outputs": [],
   "source": [
    "embeddings_dictionary = dict()\n",
    "glove_file = open('./glove.6B.300d.txt', encoding=\"utf8\")\n",
    "\n",
    "for line in glove_file:\n",
    "    records = line.split()\n",
    "    word = records[0]\n",
    "    vector_dimensions = np.asarray(records[1:], dtype='float32')\n",
    "    embeddings_dictionary[word] = vector_dimensions\n",
    "glove_file.close()"
   ]
  },
  {
   "cell_type": "code",
   "execution_count": 31,
   "metadata": {},
   "outputs": [],
   "source": [
    "embedding_vector_length = 300\n",
    "word_index = tokenizer.word_index\n",
    "num_word = 30000\n",
    "\n",
    "embedding_matix = np.zeros((num_word, embedding_vector_length))\n",
    "\n",
    "for word, i in word_index.items():\n",
    "    if i > num_word-1:\n",
    "        continue\n",
    "    embedding_vector = embeddings_dictionary.get(word)\n",
    "    if embedding_vector is not None:\n",
    "        embedding_matix[i] = embedding_vector"
   ]
  },
  {
   "cell_type": "markdown",
   "metadata": {},
   "source": [
    "Riportiamo qui la rete allenata usando questo embedding con un solo livello denso (è stata testata con la stessa configuazione usata sopra (3 livelli hidden densi) e ottenuto in ogni caso risultati peggiori rispetto alla rete con embedding layer con pesi default)."
   ]
  },
  {
   "cell_type": "code",
   "execution_count": 32,
   "metadata": {},
   "outputs": [
    {
     "name": "stdout",
     "output_type": "stream",
     "text": [
      "Model: \"sequential_6\"\n",
      "_________________________________________________________________\n",
      "Layer (type)                 Output Shape              Param #   \n",
      "=================================================================\n",
      "embedding_4 (Embedding)      (None, 230, 300)          9000000   \n",
      "_________________________________________________________________\n",
      "flatten_3 (Flatten)          (None, 69000)             0         \n",
      "_________________________________________________________________\n",
      "dense_5 (Dense)              (None, 50)                3450050   \n",
      "_________________________________________________________________\n",
      "dropout_3 (Dropout)          (None, 50)                0         \n",
      "_________________________________________________________________\n",
      "dense_6 (Dense)              (None, 1)                 51        \n",
      "=================================================================\n",
      "Total params: 12,450,101\n",
      "Trainable params: 3,450,101\n",
      "Non-trainable params: 9,000,000\n",
      "_________________________________________________________________\n",
      "None\n"
     ]
    }
   ],
   "source": [
    "max_review_length = 230\n",
    "MAX_FEATURES = 30000\n",
    "embedding_vector_length = 300\n",
    "\n",
    "model = Sequential()\n",
    "embedding_layer = Embedding(MAX_FEATURES, \n",
    "                            embedding_vector_length,\n",
    "                            embeddings_initializer= Constant(embedding_matix),\n",
    "                            input_length=max_review_length,\n",
    "                            trainable=False)\n",
    "model.add(embedding_layer)\n",
    "model.add(Flatten())\n",
    "\n",
    "model.add(Dense(50, activation='relu'))\n",
    "model.add(Dropout(0.25))\n",
    "\n",
    "model.add(Dense(1, activation='sigmoid'))\n",
    "early_stopping = EarlyStopping(monitor='val_loss', patience=2)\n",
    "model.compile(loss='binary_crossentropy', optimizer=optimizers.Adam(lr=0.0001), metrics=['accuracy'])\n",
    "print(model.summary())"
   ]
  },
  {
   "cell_type": "code",
   "execution_count": 33,
   "metadata": {},
   "outputs": [
    {
     "name": "stdout",
     "output_type": "stream",
     "text": [
      "Train on 2880000 samples, validate on 720000 samples\n",
      "Epoch 1/100\n",
      "2880000/2880000 [==============================] - 1616s 561us/step - loss: 0.3795 - accuracy: 0.8301 - val_loss: 0.3491 - val_accuracy: 0.8462\n",
      "Epoch 2/100\n",
      "2880000/2880000 [==============================] - 1451s 504us/step - loss: 0.3353 - accuracy: 0.8543 - val_loss: 0.3300 - val_accuracy: 0.8568\n",
      "Epoch 3/100\n",
      "2880000/2880000 [==============================] - 1395s 484us/step - loss: 0.3120 - accuracy: 0.8665 - val_loss: 0.3228 - val_accuracy: 0.8611\n",
      "Epoch 4/100\n",
      "2880000/2880000 [==============================] - 1454s 505us/step - loss: 0.2927 - accuracy: 0.8764 - val_loss: 0.3181 - val_accuracy: 0.8638\n",
      "Epoch 5/100\n",
      "2880000/2880000 [==============================] - 1388s 482us/step - loss: 0.2760 - accuracy: 0.8844 - val_loss: 0.3164 - val_accuracy: 0.8653\n",
      "Epoch 6/100\n",
      "2880000/2880000 [==============================] - 1392s 483us/step - loss: 0.2616 - accuracy: 0.8909 - val_loss: 0.3225 - val_accuracy: 0.8661\n",
      "Epoch 7/100\n",
      "2880000/2880000 [==============================] - 1392s 483us/step - loss: 0.2493 - accuracy: 0.8967 - val_loss: 0.3272 - val_accuracy: 0.8657\n"
     ]
    }
   ],
   "source": [
    "hist = model.fit(x_train,  train_labels, validation_data=(val_texts, val_labels), epochs=100, batch_size=500,callbacks=[early_stopping])"
   ]
  },
  {
   "cell_type": "code",
   "execution_count": null,
   "metadata": {},
   "outputs": [],
   "source": []
  }
 ],
 "metadata": {
  "kernelspec": {
   "display_name": "Python 3",
   "language": "python",
   "name": "python3"
  },
  "language_info": {
   "codemirror_mode": {
    "name": "ipython",
    "version": 3
   },
   "file_extension": ".py",
   "mimetype": "text/x-python",
   "name": "python",
   "nbconvert_exporter": "python",
   "pygments_lexer": "ipython3",
   "version": "3.7.7"
  }
 },
 "nbformat": 4,
 "nbformat_minor": 4
}
